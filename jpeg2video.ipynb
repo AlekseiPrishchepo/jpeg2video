{
 "cells": [
  {
   "cell_type": "code",
   "execution_count": null,
   "metadata": {},
   "outputs": [],
   "source": [
    "import cv2\n",
    "import numpy as np"
   ]
  },
  {
   "cell_type": "code",
   "execution_count": null,
   "metadata": {},
   "outputs": [],
   "source": [
    "# Функция для редактирования гаммы\n",
    "def adjust_gamma(image, gamma=1.0):\n",
    "    invGamma = 1.0 / gamma\n",
    "    table = np.array([((i / 255.0) ** invGamma) * 255\n",
    "                      for i in np.arange(0, 256)]).astype('uint8')\n",
    "    return cv2.LUT(image, table)"
   ]
  },
  {
   "cell_type": "code",
   "execution_count": null,
   "metadata": {},
   "outputs": [],
   "source": [
    "# Директория с серией фото\n",
    "image_folder = 'C:/Users/admin/Downloads/Sunset/'\n",
    "# Расширения фото\n",
    "image_type = '.JPG'\n",
    "# Путь к файлу видео\n",
    "output_video  = 'C:/Users/admin/Downloads/Sunset/Sunset.mp4'\n",
    "# Если нужно поиграть с кривой: меньше 1.0 — темнее, больше 1.0 — светлее\n",
    "gamma = 0.5\n",
    "# Формат видео \n",
    "dsize = (1920, 1080)\n",
    "# Скорость, кадров в секунду\n",
    "frame_rate = 30\n",
    "\n",
    "images = [img for img in os.listdir(image_folder) if img.endswith(image_type)]\n",
    "\n",
    "frame = cv2.imread(os.path.join(image_folder, images[0]))\n",
    "frame = cv2.resize(frame, dsize)\n",
    "height, width, layers = frame.shape\n",
    "fourcc = cv2.VideoWriter_fourcc(*'mp4v')\n",
    "\n",
    "video = cv2.VideoWriter(output_video, fourcc, frame_rate, (width, height))\n",
    "\n",
    "for image in images:\n",
    "    video.write(adjust_gamma(cv2.resize(cv2.imread(os.path.join(image_folder, image)), dsize), gamma=gamma))\n",
    "\n",
    "cv2.destroyAllWindows()\n",
    "video.release()"
   ]
  },
  {
   "cell_type": "code",
   "execution_count": null,
   "metadata": {},
   "outputs": [],
   "source": [
    "# OpenCV брать здесь https://www.lfd.uci.edu/~gohlke/pythonlibs/#opencv \n",
    "# и устанавливать командой (пакет для python 3.7):\n",
    "# !pip install opencv_python‑4.4.0‑cp37‑cp37m‑win_amd64.whl"
   ]
  },
  {
   "cell_type": "code",
   "execution_count": null,
   "metadata": {},
   "outputs": [],
   "source": []
  }
 ],
 "metadata": {
  "kernelspec": {
   "display_name": "Python 3",
   "language": "python",
   "name": "python3"
  },
  "language_info": {
   "codemirror_mode": {
    "name": "ipython",
    "version": 3
   },
   "file_extension": ".py",
   "mimetype": "text/x-python",
   "name": "python",
   "nbconvert_exporter": "python",
   "pygments_lexer": "ipython3",
   "version": "3.7.6"
  }
 },
 "nbformat": 4,
 "nbformat_minor": 4
}
